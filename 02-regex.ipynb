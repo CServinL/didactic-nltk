{
 "cells": [
  {
   "cell_type": "markdown",
   "id": "b9ec56c3-e21c-4bdd-9c5d-f0722b83bc37",
   "metadata": {},
   "source": [
    "# Using regex to process texts\n",
    "\n",
    "Matching non words, and replacing it with an arbitray string ' | ' word sepparator"
   ]
  },
  {
   "cell_type": "code",
   "execution_count": 9,
   "id": "a805cd6e-70f8-412b-938c-47d10728b2d2",
   "metadata": {},
   "outputs": [
    {
     "name": "stdout",
     "output_type": "stream",
     "text": [
      "\" | The | development | of | the | snowboard | was | inspired | by | the | skateboard | sled | surf | and | ski | \"\n"
     ]
    }
   ],
   "source": [
    "import re\n",
    "import json\n",
    "\n",
    "sentence = \" The development of the snowboard was inspired by the skateboard, sled , surf and ski.\"\n",
    "pattern = r\"\\W+\"\n",
    "print(json.dumps(re.sub(pattern, \" | \",sentence), indent=2, ensure_ascii=False))"
   ]
  },
  {
   "cell_type": "code",
   "execution_count": null,
   "id": "74ebabc6-6d6a-44e2-99f4-0f4aa041f83b",
   "metadata": {},
   "outputs": [],
   "source": []
  }
 ],
 "metadata": {
  "kernelspec": {
   "display_name": "Python 3 (ipykernel)",
   "language": "python",
   "name": "python3"
  },
  "language_info": {
   "codemirror_mode": {
    "name": "ipython",
    "version": 3
   },
   "file_extension": ".py",
   "mimetype": "text/x-python",
   "name": "python",
   "nbconvert_exporter": "python",
   "pygments_lexer": "ipython3",
   "version": "3.13.7"
  }
 },
 "nbformat": 4,
 "nbformat_minor": 5
}
